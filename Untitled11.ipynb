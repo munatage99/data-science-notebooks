{
 "cells": [
  {
   "cell_type": "code",
   "execution_count": 2,
   "id": "9a715ede",
   "metadata": {},
   "outputs": [
    {
     "name": "stdout",
     "output_type": "stream",
     "text": [
      "Duration of one simulation time unit: 0.10s\n"
     ]
    }
   ],
   "source": [
    "import time\n",
    "import simpy.rt\n",
    "def example(env):\n",
    "    start = time.perf_counter()\n",
    "    yield env.timeout(1)\n",
    "    end = time.perf_counter()\n",
    "    print('Duration of one simulation time unit: %.2fs' % (end - start))\n",
    "\n",
    "env = simpy.rt.RealtimeEnvironment(factor=0.1)\n",
    "proc = env.process(example(env))\n",
    "env.run(until=proc)\n",
    "\n"
   ]
  },
  {
   "cell_type": "code",
   "execution_count": 3,
   "id": "ddbc2751",
   "metadata": {},
   "outputs": [
    {
     "name": "stdout",
     "output_type": "stream",
     "text": [
      "Chemical X_batch1 requested Machine1 at 0\n",
      "Chemical X_batch2 requested Machine1 at 0\n",
      "Chemical X_batch1 got into Machine1 at 0\n",
      "Chemical X_batch1 got out of Machine1 at 3\n",
      "Chemical X_batch2 got into Machine1 at 3\n",
      "Chemical X_batch2 got out of Machine1 at 6\n",
      "X_batch1 asks for Machine2 at 6.\n",
      "X_batch2 asks for Machine2 at 6.\n",
      "X_batch1 gets machine2 at 6.\n",
      "X_batch1 got out of machine2 at 18.\n",
      "X_batch2 gets machine2 at 18.\n",
      "X_batch2 got out of machine2 at 30.\n"
     ]
    }
   ],
   "source": [
    "import simpy\n",
    "from collections import namedtuple\n",
    "\n",
    "Chemical = namedtuple(\"Chemical\", \"name\")\n",
    "\n",
    "X_batch1 = Chemical(\"X_batch1\")\n",
    "X_batch2 = Chemical(\"X_batch2\")\n",
    "\n",
    "\n",
    "def do_process_1(env, machine1, Chemical):\n",
    "    print(f\"Chemical {Chemical.name} requested Machine1 at {env.now}\")\n",
    "    with machine1.request() as req:\n",
    "        yield req\n",
    "        print(f\"Chemical {Chemical.name} got into Machine1 at {env.now}\")\n",
    "        yield env.timeout(3)\n",
    "        print(f\"Chemical {Chemical.name} got out of Machine1 at {env.now}\")\n",
    "        # yield env.timeout(2)\n",
    "\n",
    "\n",
    "def do_process_2(env, machine2, Chemicals, procs):\n",
    "\n",
    "    yield env.all_of(procs)\n",
    "\n",
    "    # make each batch for machine2, one after the other\n",
    "    print(f\"{Chemicals[0]} asks for Machine2 at {env.now}.\")\n",
    "    with machine2.request() as req1, machine2.request() as req2:\n",
    "        yield req1 & req2\n",
    "        print(f\"{Chemicals[0]} gets machine2 at {env.now}.\")\n",
    "        yield env.timeout(12)\n",
    "    print(f\"{Chemicals[0]} got out of machine2 at {env.now}.\")\n",
    "\n",
    "\n",
    "env = simpy.Environment()\n",
    "machine1 = simpy.Resource(env, 1)\n",
    "machine2 = simpy.Resource(env, 2)\n",
    "\n",
    "proc1 = env.process(do_process_1(env, machine1, X_batch1))\n",
    "proc2 = env.process(do_process_1(env, machine1, X_batch2))\n",
    "env.process(do_process_2(env, machine2, (X_batch1), (proc1, proc2)))\n",
    "env.process(do_process_2(env, machine2, (X_batch2), (proc1, proc2)))\n",
    "env.run(until=60)"
   ]
  },
  {
   "cell_type": "code",
   "execution_count": null,
   "id": "92387958",
   "metadata": {},
   "outputs": [],
   "source": []
  }
 ],
 "metadata": {
  "kernelspec": {
   "display_name": "Python 3 (ipykernel)",
   "language": "python",
   "name": "python3"
  },
  "language_info": {
   "codemirror_mode": {
    "name": "ipython",
    "version": 3
   },
   "file_extension": ".py",
   "mimetype": "text/x-python",
   "name": "python",
   "nbconvert_exporter": "python",
   "pygments_lexer": "ipython3",
   "version": "3.7.3"
  }
 },
 "nbformat": 4,
 "nbformat_minor": 5
}
